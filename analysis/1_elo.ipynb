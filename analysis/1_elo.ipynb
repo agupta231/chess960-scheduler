{
 "cells": [
  {
   "cell_type": "markdown",
   "id": "stock-configuration",
   "metadata": {},
   "source": [
    "# Rating Split Analysis\n",
    "I'm trying to find ELO boundaries which give the best looking tournament sizes. There will probably be overlap as a lot of players ar very close in ELO."
   ]
  },
  {
   "cell_type": "markdown",
   "id": "egyptian-better",
   "metadata": {},
   "source": [
    "## Imports"
   ]
  },
  {
   "cell_type": "code",
   "execution_count": 1,
   "id": "composed-large",
   "metadata": {},
   "outputs": [],
   "source": [
    "import pandas as pd\n",
    "import numpy as np"
   ]
  },
  {
   "cell_type": "markdown",
   "id": "automated-sunglasses",
   "metadata": {},
   "source": [
    "## Read ELO data\n",
    "Note that this requires that `0_download.ipynb` be run first to download the updated ratings."
   ]
  },
  {
   "cell_type": "code",
   "execution_count": 2,
   "id": "weird-cookie",
   "metadata": {},
   "outputs": [],
   "source": [
    "scores = pd.read_csv('data/scores.csv')"
   ]
  },
  {
   "cell_type": "markdown",
   "id": "hidden-argentina",
   "metadata": {},
   "source": [
    "Basic ELO visualization"
   ]
  },
  {
   "cell_type": "code",
   "execution_count": 10,
   "id": "portuguese-trash",
   "metadata": {},
   "outputs": [
    {
     "data": {
      "text/plain": [
       "Text(0.5, 0, 'ELO')"
      ]
     },
     "execution_count": 10,
     "metadata": {},
     "output_type": "execute_result"
    },
    {
     "data": {
      "image/png": "[encoded data removed]",
      "text/plain": [
       "<Figure size 432x288 with 1 Axes>"
      ]
     },
     "metadata": {
      "needs_background": "light"
     },
     "output_type": "display_data"
    }
   ],
   "source": [
    "ax = scores['rating'].hist()\n",
    "ax.set_title('Chess960 ELO Distribution')\n",
    "ax.set_ylabel('Count')\n",
    "ax.set_xlabel('ELO')"
   ]
  },
  {
   "cell_type": "markdown",
   "id": "complex-seafood",
   "metadata": {},
   "source": [
    "## Determine ELO Splits\n",
    "The following section will find the ELO boundaries that always give equal sized chunks (with overlap) "
   ]
  },
  {
   "cell_type": "markdown",
   "id": "heated-terminology",
   "metadata": {},
   "source": [
    "### Define Split Size\n",
    "Define split size to be a percentage of the total member population. For example, a split size of `33` would result in a perfect 3-way split."
   ]
  },
  {
   "cell_type": "code",
   "execution_count": 4,
   "id": "careful-vehicle",
   "metadata": {},
   "outputs": [
    {
     "name": "stdout",
     "output_type": "stream",
     "text": [
      "Estimated Members / Arena: 31878\n"
     ]
    }
   ],
   "source": [
    "SIZE = 42\n",
    "print(f'Estimated Members / Arena: {SIZE * scores.shape[0]}')"
   ]
  },
  {
   "cell_type": "markdown",
   "id": "neutral-valley",
   "metadata": {},
   "source": [
    "Determine ELO splits"
   ]
  },
  {
   "cell_type": "code",
   "execution_count": 5,
   "id": "occupied-kitty",
   "metadata": {},
   "outputs": [],
   "source": [
    "beginner_upper = np.percentile(scores['rating'], SIZE)\n",
    "inter_lower = np.percentile(scores['rating'], 50 - (SIZE / 2))\n",
    "inter_upper = np.percentile(scores['rating'], 50 + (SIZE / 2))\n",
    "master_lower = np.percentile(scores['rating'], 100 - SIZE)"
   ]
  },
  {
   "cell_type": "markdown",
   "id": "adult-stand",
   "metadata": {},
   "source": [
    "Print splits"
   ]
  },
  {
   "cell_type": "code",
   "execution_count": 6,
   "id": "romance-craft",
   "metadata": {},
   "outputs": [
    {
     "name": "stdout",
     "output_type": "stream",
     "text": [
      "Beginnner bounds: (0,1537.3600000000001]\n",
      "Intermediate bounds: (1419.82,1741.0)\n",
      "Master bounds: (1646.0,∞]\n"
     ]
    }
   ],
   "source": [
    "print(f'Beginnner bounds: (0,{beginner_upper}]')\n",
    "print(f'Intermediate bounds: ({inter_lower},{inter_upper})')\n",
    "print(f'Master bounds: ({master_lower},∞]')"
   ]
  },
  {
   "cell_type": "markdown",
   "id": "stupid-blair",
   "metadata": {},
   "source": [
    "Print members per tournament"
   ]
  },
  {
   "cell_type": "code",
   "execution_count": 7,
   "id": "bibliographic-intranet",
   "metadata": {},
   "outputs": [
    {
     "name": "stdout",
     "output_type": "stream",
     "text": [
      "319 members in the Beginner arena.\n",
      "321 members in the Intermediate arena.\n",
      "320 members in the Masters arena.\n"
     ]
    }
   ],
   "source": [
    "print('{} members in the Beginner arena.'.format(scores[scores['rating'] <= beginner_upper].shape[0]))\n",
    "print('{} members in the Intermediate arena.'.format(scores[(inter_lower <= scores['rating']) & (scores['rating'] <= inter_upper)].shape[0]))\n",
    "print('{} members in the Masters arena.'.format(scores[master_lower <= scores['rating']].shape[0]))"
   ]
  },
  {
   "cell_type": "code",
   "execution_count": null,
   "id": "surrounded-cemetery",
   "metadata": {},
   "outputs": [],
   "source": []
  }
 ],
 "metadata": {
  "kernelspec": {
   "display_name": "Python 3",
   "language": "python",
   "name": "python3"
  },
  "language_info": {
   "codemirror_mode": {
    "name": "ipython",
    "version": 3
   },
   "file_extension": ".py",
   "mimetype": "text/x-python",
   "name": "python",
   "nbconvert_exporter": "python",
   "pygments_lexer": "ipython3",
   "version": "3.9.2"
  }
 },
 "nbformat": 4,
 "nbformat_minor": 5
}
