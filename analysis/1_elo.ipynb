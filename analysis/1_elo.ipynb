{
 "cells": [
  {
   "cell_type": "markdown",
   "id": "backed-bundle",
   "metadata": {},
   "source": [
    "# Rating Split Analysis\n",
    "I'm trying to find ELO boundaries which give the best looking tournament sizes. There will probably be overlap as a lot of players ar very close in ELO."
   ]
  },
  {
   "cell_type": "markdown",
   "id": "jewish-table",
   "metadata": {},
   "source": [
    "## Imports"
   ]
  },
  {
   "cell_type": "code",
   "execution_count": 1,
   "id": "peripheral-extraction",
   "metadata": {},
   "outputs": [],
   "source": [
    "import pandas as pd\n",
    "import numpy as np\n",
    "import datetime"
   ]
  },
  {
   "cell_type": "markdown",
   "id": "driving-choir",
   "metadata": {},
   "source": [
    "## Read ELO data\n",
    "Note that this requires that `0_download.ipynb` be run first to download the updated ratings."
   ]
  },
  {
   "cell_type": "code",
   "execution_count": 2,
   "id": "inner-pastor",
   "metadata": {},
   "outputs": [
    {
     "name": "stdout",
     "output_type": "stream",
     "text": [
      "There are 751 members with Chess960 ELOs\n"
     ]
    }
   ],
   "source": [
    "scores = pd.read_csv('data/scores.csv')\n",
    "scores['seenAt'] = pd.to_datetime(scores['seenAt'], unit='ms', origin='unix')\n",
    "print(f'There are {scores.shape[0]} members with Chess960 ELOs')"
   ]
  },
  {
   "cell_type": "markdown",
   "id": "focal-venice",
   "metadata": {},
   "source": [
    "### Filter out inactive accounts\n",
    "Only select the accounts that have been active within the last two weeks"
   ]
  },
  {
   "cell_type": "code",
   "execution_count": 3,
   "id": "attached-closer",
   "metadata": {},
   "outputs": [
    {
     "data": {
      "text/plain": [
       "datetime.datetime(2021, 2, 25, 0, 0)"
      ]
     },
     "execution_count": 3,
     "metadata": {},
     "output_type": "execute_result"
    }
   ],
   "source": [
    "today = datetime.datetime.today()\n",
    "start_of_today = datetime.datetime(today.year, today.month, today.day, 0, 0, 0)\n",
    "cutoff = start_of_today - datetime.timedelta(weeks=2)\n",
    "cutoff"
   ]
  },
  {
   "cell_type": "code",
   "execution_count": 4,
   "id": "closed-consultancy",
   "metadata": {},
   "outputs": [
    {
     "name": "stdout",
     "output_type": "stream",
     "text": [
      "There are 436 active members with Chess960 ELOs\n"
     ]
    }
   ],
   "source": [
    "scores = scores[scores['seenAt'] >= cutoff]\n",
    "print(f'There are {scores.shape[0]} active members with Chess960 ELOs')"
   ]
  },
  {
   "cell_type": "markdown",
   "id": "talented-consideration",
   "metadata": {},
   "source": [
    "Basic ELO visualization"
   ]
  },
  {
   "cell_type": "code",
   "execution_count": 5,
   "id": "prepared-suspension",
   "metadata": {},
   "outputs": [
    {
     "data": {
      "text/plain": [
       "Text(0.5, 0, 'ELO')"
      ]
     },
     "execution_count": 5,
     "metadata": {},
     "output_type": "execute_result"
    },
    {
     "data": {
      "image/png": "[encoded data removed]",
      "text/plain": [
       "<Figure size 432x288 with 1 Axes>"
      ]
     },
     "metadata": {
      "needs_background": "light"
     },
     "output_type": "display_data"
    }
   ],
   "source": [
    "ax = scores['rating'].hist()\n",
    "ax.set_title('Chess960 ELO Distribution')\n",
    "ax.set_ylabel('Count')\n",
    "ax.set_xlabel('ELO')"
   ]
  },
  {
   "cell_type": "markdown",
   "id": "cellular-dictionary",
   "metadata": {},
   "source": [
    "## Determine ELO Splits\n",
    "The following section will find the ELO boundaries that always give equal sized chunks (with overlap) "
   ]
  },
  {
   "cell_type": "markdown",
   "id": "english-formation",
   "metadata": {},
   "source": [
    "### Define Split Size\n",
    "Define split size to be a percentage of the total member population. For example, a split size of `33` would result in a perfect 3-way split."
   ]
  },
  {
   "cell_type": "code",
   "execution_count": 6,
   "id": "false-lawrence",
   "metadata": {},
   "outputs": [
    {
     "name": "stdout",
     "output_type": "stream",
     "text": [
      "Estimated Members / Arena: 43.6\n"
     ]
    }
   ],
   "source": [
    "SIZE = 40\n",
    "CHUNKS = 4\n",
    "print(f'Estimated Members / Arena: {SIZE * scores.shape[0] / 100 / CHUNKS}')"
   ]
  },
  {
   "cell_type": "markdown",
   "id": "common-buying",
   "metadata": {},
   "source": [
    "### Determine ELO splits"
   ]
  },
  {
   "cell_type": "code",
   "execution_count": 7,
   "id": "meaning-voice",
   "metadata": {},
   "outputs": [],
   "source": [
    "beginner_upper = np.percentile(scores['rating'], SIZE)\n",
    "inter_lower = np.percentile(scores['rating'], 50 - (SIZE / 2))\n",
    "inter_upper = np.percentile(scores['rating'], 50 + (SIZE / 2))\n",
    "master_lower = np.percentile(scores['rating'], 100 - SIZE)"
   ]
  },
  {
   "cell_type": "markdown",
   "id": "excellent-october",
   "metadata": {},
   "source": [
    "## Results"
   ]
  },
  {
   "cell_type": "markdown",
   "id": "pharmaceutical-wright",
   "metadata": {},
   "source": [
    "Splits"
   ]
  },
  {
   "cell_type": "code",
   "execution_count": 8,
   "id": "quick-gardening",
   "metadata": {},
   "outputs": [
    {
     "name": "stdout",
     "output_type": "stream",
     "text": [
      "Beginnner bounds: (0,1534.0]\n",
      "Intermediate bounds: (1447.0,1737.0)\n",
      "Master bounds: (1662.0,∞]\n"
     ]
    }
   ],
   "source": [
    "print(f'Beginnner bounds: (0,{beginner_upper}]')\n",
    "print(f'Intermediate bounds: ({inter_lower},{inter_upper})')\n",
    "print(f'Master bounds: ({master_lower},∞]')"
   ]
  },
  {
   "cell_type": "markdown",
   "id": "liberal-accessory",
   "metadata": {},
   "source": [
    "Members per arena"
   ]
  },
  {
   "cell_type": "code",
   "execution_count": 9,
   "id": "suspended-orientation",
   "metadata": {},
   "outputs": [
    {
     "name": "stdout",
     "output_type": "stream",
     "text": [
      "43.75 members in the Beginner arena.\n",
      "44.0 members in the Intermediate arena.\n",
      "43.75 members in the Masters arena.\n"
     ]
    }
   ],
   "source": [
    "print('{} members in the Beginner arena.'.format(scores[scores['rating'] <= beginner_upper].shape[0] / CHUNKS))\n",
    "print('{} members in the Intermediate arena.'.format(scores[(inter_lower <= scores['rating']) & (scores['rating'] <= inter_upper)].shape[0] / CHUNKS))\n",
    "print('{} members in the Masters arena.'.format(scores[master_lower <= scores['rating']].shape[0] / CHUNKS))"
   ]
  },
  {
   "cell_type": "code",
   "execution_count": null,
   "id": "adjusted-conducting",
   "metadata": {},
   "outputs": [],
   "source": []
  }
 ],
 "metadata": {
  "kernelspec": {
   "display_name": "Python 3",
   "language": "python",
   "name": "python3"
  },
  "language_info": {
   "codemirror_mode": {
    "name": "ipython",
    "version": 3
   },
   "file_extension": ".py",
   "mimetype": "text/x-python",
   "name": "python",
   "nbconvert_exporter": "python",
   "pygments_lexer": "ipython3",
   "version": "3.9.2"
  }
 },
 "nbformat": 4,
 "nbformat_minor": 5
}
